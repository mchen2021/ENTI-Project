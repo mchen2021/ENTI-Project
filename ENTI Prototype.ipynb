{
 "cells": [
  {
   "cell_type": "code",
   "execution_count": null,
   "metadata": {},
   "outputs": [],
   "source": [
    "#imports source files\n",
    "import csv\n",
    "\n",
    "rowdata=[]\n",
    "headerData=[]\n",
    "#readFile 1\n",
    "with open('ENTI Test File 1.csv') as csv_file:\n",
    "    csv_reader = csv.reader(csv_file, delimiter=',')\n",
    "    line_count = 0\n",
    "    for row in csv_reader:\n",
    "        if line_count == 0:\n",
    "            headerData = row\n",
    "            line_count += 1\n",
    "        else:\n",
    "            rowdata.append(row)\n",
    "            line_count += 1\n",
    "\n",
    "#read File 2    \n",
    "    \n",
    "with open('ENTI Test File 2.csv') as csv_file:\n",
    "    csv_reader = csv.reader(csv_file, delimiter=',')\n",
    "    line_count = 0\n",
    "    for row in csv_reader:\n",
    "        if line_count == 0:\n",
    "            line_count += 1\n",
    "        else:\n",
    "            rowdata.append(row)\n",
    "            line_count += 1\n",
    "\n",
    "    \n",
    "dataSort = sorted(rowdata, key=lambda x: x[8])\n",
    "\n",
    "dim = len(dataSort)\n",
    "\n",
    "with open('out.csv', mode='w') as employee_file:\n",
    "    employee_writer = csv.writer(employee_file, delimiter=',', quotechar='\"', quoting=csv.QUOTE_MINIMAL)\n",
    "\n",
    "    employee_writer.writerow(headerData)\n",
    "    for i in range (dim):\n",
    "        employee_writer.writerow(dataSort[i])"
   ]
  }
 ],
 "metadata": {
  "kernelspec": {
   "display_name": "Python 3",
   "language": "python",
   "name": "python3"
  },
  "language_info": {
   "codemirror_mode": {
    "name": "ipython",
    "version": 3
   },
   "file_extension": ".py",
   "mimetype": "text/x-python",
   "name": "python",
   "nbconvert_exporter": "python",
   "pygments_lexer": "ipython3",
   "version": "3.8.5"
  }
 },
 "nbformat": 4,
 "nbformat_minor": 4
}
