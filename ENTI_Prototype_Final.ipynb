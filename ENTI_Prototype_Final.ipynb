{
  "nbformat": 4,
  "nbformat_minor": 0,
  "metadata": {
    "kernelspec": {
      "display_name": "Python 3",
      "language": "python",
      "name": "python3"
    },
    "language_info": {
      "codemirror_mode": {
        "name": "ipython",
        "version": 3
      },
      "file_extension": ".py",
      "mimetype": "text/x-python",
      "name": "python",
      "nbconvert_exporter": "python",
      "pygments_lexer": "ipython3",
      "version": "3.8.5"
    },
    "colab": {
      "name": "ENTI Prototype Final.ipynb",
      "provenance": [],
      "collapsed_sections": [],
      "toc_visible": true,
      "include_colab_link": true
    }
  },
  "cells": [
    {
      "cell_type": "markdown",
      "metadata": {
        "id": "view-in-github",
        "colab_type": "text"
      },
      "source": [
        "<a href=\"https://colab.research.google.com/github/stocksandblondes/ENTI-Project/blob/main/ENTI_Prototype_Final.ipynb\" target=\"_parent\"><img src=\"https://colab.research.google.com/assets/colab-badge.svg\" alt=\"Open In Colab\"/></a>"
      ]
    },
    {
      "cell_type": "code",
      "metadata": {
        "id": "xSvzcg9kVG-r"
      },
      "source": [
        "#This version is the final and will be used for demo of the MVP\n",
        "#imports source files\n",
        "import csv\n",
        "import os\n",
        "\n",
        "csvs = []\n",
        "headerData = []\n",
        "rowData = []\n",
        "#take all csvs and put in list\n",
        "for file in os.listdir(os.getcwd()):\n",
        "    if file.endswith(\".csv\"):\n",
        "        csvs.append(os.path.join(os.getcwd(), file))\n",
        "\n",
        "#get header from one csv and put in header data. Assume that header data is the same for all csvs\n",
        "with open(csvs[0]) as csv_file:\n",
        "    reader = csv.reader(csv_file, delimiter=\",\")\n",
        "    headerData = next(reader)\n",
        "\n",
        "#read all csv data and store in rowData. Always ignore first line because that's where the headers are\n",
        "for csvFile in csvs:\n",
        "  if \"out.csv\" in csvFile:\n",
        "    continue\n",
        "  with open(csvFile) as csv_file2:\n",
        "    reader = csv.reader(csv_file2, delimiter=\",\")\n",
        "    #throw out first line\n",
        "    next(reader)\n",
        "    for row in reader:\n",
        "      rowData.append(row)\n",
        "      \n",
        "dataSort = sorted(rowData, key=lambda x: x[8])\n",
        "\n",
        "dim = len(dataSort)\n",
        "\n",
        "with open('out.csv', mode='w') as employee_file:\n",
        "    employee_writer = csv.writer(employee_file, delimiter=',', quotechar='\"', quoting=csv.QUOTE_MINIMAL)\n",
        "\n",
        "    employee_writer.writerow(headerData)\n",
        "    for i in range (dim):\n",
        "        employee_writer.writerow(dataSort[i])"
      ],
      "execution_count": 2,
      "outputs": []
    },
    {
      "cell_type": "code",
      "metadata": {
        "id": "XAJqBpC5WUiv"
      },
      "source": [
        "\n"
      ],
      "execution_count": null,
      "outputs": []
    },
    {
      "cell_type": "code",
      "metadata": {
        "id": "4n-2ZnZFbfGM"
      },
      "source": [
        ""
      ],
      "execution_count": null,
      "outputs": []
    }
  ]
}